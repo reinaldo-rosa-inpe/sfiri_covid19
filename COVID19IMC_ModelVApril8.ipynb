{
  "nbformat": 4,
  "nbformat_minor": 0,
  "metadata": {
    "kernelspec": {
      "display_name": "Python 3",
      "language": "python",
      "name": "python3"
    },
    "language_info": {
      "codemirror_mode": {
        "name": "ipython",
        "version": 3
      },
      "file_extension": ".py",
      "mimetype": "text/x-python",
      "name": "python",
      "nbconvert_exporter": "python",
      "pygments_lexer": "ipython3",
      "version": "3.7.3"
    },
    "colab": {
      "name": "COVID19IMC-Model.ipynb",
      "provenance": [],
      "collapsed_sections": []
    }
  },
  "cells": [
    {
      "cell_type": "markdown",
      "metadata": {
        "id": "iAlti60vrN2r",
        "colab_type": "text"
      },
      "source": [
        "## COVID-19 - IMC-SF (Inhomogeneous Multiplicative Cascade for Social Fluids)\n",
        "by R.R.Rosa, R.A. Sautter & N. Joshi\n",
        "\n",
        "LABAC-INPE-MCTIC\n",
        "\n",
        "version 1.2 - March 30, 2020"
      ]
    },
    {
      "cell_type": "code",
      "metadata": {
        "id": "iPXmNG23r-ze",
        "colab_type": "code",
        "colab": {}
      },
      "source": [
        "#COVID-19 - IMC-SF (Inhomogeneous Multiplicative Cascade for Social Fluids) by R.R.Rosa, R.A. Sautter & N. Joshi\n",
        "#LABAC-INPE-MCTIC\n",
        "#version 1.2 - March 30, 2020\n",
        "#This code has as input:\n",
        "#(i) the general transmission factor g (0 < g < 1)\n",
        "#(ii)the value of daily new confirmed cases of COVID-19: n_knb (number of cases for yesterday) and n_knt (number of cases for today)\n",
        "#(the model has been validated by using the official values from WHO)\n",
        "#The output is the expected range (min-max), the g(t) to be assimilated by the model and the respective expected supression factor s(g_0, g, n_knb, n_knt), \n",
        "#when there is positive derivative spike for the next day the precision of the model is 80%.\n",
        "\n",
        "import pandas.util.testing as tm\n",
        "import math\n",
        "import pandas as pd\n",
        "import numpy as np\n",
        "import matplotlib.pyplot as plt\n",
        "import seaborn as sns\n",
        "sns.set()\n",
        "\n",
        "%matplotlib inline\n"
      ],
      "execution_count": 0,
      "outputs": []
    },
    {
      "cell_type": "code",
      "metadata": {
        "id": "X_D6AKEjr-zu",
        "colab_type": "code",
        "colab": {}
      },
      "source": [
        "#set the value of g (0.0 < g < 1.0)\n",
        "class fConst():\n",
        "    def getF(self):\n",
        "        return 0.75\n",
        "\n",
        "day=\"April04\" \n",
        "g0=0.55      "
      ],
      "execution_count": 0,
      "outputs": []
    },
    {
      "cell_type": "code",
      "metadata": {
        "id": "W_6MB3l3r-z9",
        "colab_type": "code",
        "colab": {}
      },
      "source": [
        "def InputValues(nkb, nKnown, f=fConst(),fn=[[2,4],[4,7],[5,10]], probAgent=[0.7,0.25,0.05]):\n",
        "    '''\n",
        "    InputValues \n",
        "        Numero de casos hoje - OMS.\n",
        "    --------\n",
        "    Parametros:\n",
        "        nkb - numero de casos do dia anterior\n",
        "        nKnown - numero de casos de hoje\n",
        "        day - dia de amanhã para o qual o modelo irá prever\n",
        "        f - fator \"g\" de ajuste do estagio da doenca(ponderacao geral) - Opcional\n",
        "        fn - lista dos valores extremos de cada agente  - Opcional\n",
        "        probAgent - lista com as probabilidade de encontrar um dado agente - Opcional\n",
        "    '''\n",
        "    \n",
        "    if len(fn)!=len(probAgent):\n",
        "        raise Exception(\"Fn and probAgent must have same size\")\n",
        "    nAgent = len(fn)\n",
        "    if nAgent<1:\n",
        "        raise Exception(\"There must be at least one agent\")\n",
        "    \n",
        "    # Normalizando as probabilidades \n",
        "    prob = np.array(probAgent)/np.sum(probAgent)\n",
        "    \n",
        "    #Calculando o valor minimo do intervalo\n",
        "    nMin = 0\n",
        "    for i in range(nAgent):\n",
        "        nMin += prob[i]*fn[i][0]\n",
        "    nMin = nMin*f.getF()*nKnown\n",
        "    nMin = int(nMin)\n",
        "    \n",
        "    #Calculando o valor maximo do intervalo\n",
        "    nMax = 0\n",
        "    for i in range(nAgent):\n",
        "        nMax += prob[i]*fn[i][1]\n",
        "    nMax = nMax*f.getF()*nKnown\n",
        "    nMax = int(nMax)\n",
        "    \n",
        "    \n",
        "    #the daily derivative\n",
        "    ddmin = nMin-nKnown\n",
        "    ddmax = nMax-nKnown\n",
        "    \n",
        "    #index of supression (isup) and supression factor (supf)\n",
        "    \n",
        "    \n",
        "    \n",
        "    g = f.getF()\n",
        "    \n",
        "    isup1=(1-g)**2\n",
        "    isup2=(1-g0)**2\n",
        "    \n",
        "    if(g0) < g: \n",
        "         supfg = (g0 - g) - isup1\n",
        "    #elif (g0) > 0.5:\n",
        "         #supf=g0-f.getF()-isup**2\n",
        "    else:\n",
        "         supfg = (g0 - g) + isup2\n",
        "    \n",
        "    delta=(nkb-nKnown)/nKnown\n",
        "\n",
        "    supf= (2*supfg + delta)/3\n",
        "    \n",
        "    return [f.getF(), day, nMin,nMax, 'supression factor:', round(supf,2)]\n",
        "\n",
        "    #return [f.getF(), day, nMin,nMax, 'daily der (min,max:', ddmin, ddmax,'supression:', supf]\n",
        " "
      ],
      "execution_count": 0,
      "outputs": []
    },
    {
      "cell_type": "markdown",
      "metadata": {
        "id": "DDZStPGOr-0G",
        "colab_type": "text"
      },
      "source": [
        "1. IMC Model (Rosa et al.) - Input Data for 3 Countries"
      ]
    },
    {
      "cell_type": "code",
      "metadata": {
        "id": "Hy4tg0gPr-0I",
        "colab_type": "code",
        "outputId": "45d549f6-8869-451f-ad14-93e3563906df",
        "colab": {
          "base_uri": "https://localhost:8080/",
          "height": 34
        }
      },
      "source": [
        "#Country 1: Brazil\n",
        "InputValues(1119, 1074)"
      ],
      "execution_count": 0,
      "outputs": [
        {
          "output_type": "execute_result",
          "data": {
            "text/plain": [
              "[0.75, 'April04', 2134, 4067, 'supression factor:', -0.29]"
            ]
          },
          "metadata": {
            "tags": []
          },
          "execution_count": 82
        }
      ]
    },
    {
      "cell_type": "code",
      "metadata": {
        "id": "IhC8atdXr-0S",
        "colab_type": "code",
        "outputId": "47c11a7f-0c76-4faa-f0a8-615106ca0b0b",
        "colab": {
          "base_uri": "https://localhost:8080/",
          "height": 34
        }
      },
      "source": [
        "#Country 2: Canada\n",
        "InputValues(1112, 1673)"
      ],
      "execution_count": 0,
      "outputs": [
        {
          "output_type": "execute_result",
          "data": {
            "text/plain": [
              "[0.75, 'April04', 3325, 6336, 'supression factor:', -0.29]"
            ]
          },
          "metadata": {
            "tags": []
          },
          "execution_count": 92
        }
      ]
    },
    {
      "cell_type": "code",
      "metadata": {
        "id": "Vij4cqibtn6j",
        "colab_type": "code",
        "outputId": "c0dc15d5-07fd-4ef5-eb78-752223c2d87f",
        "colab": {
          "base_uri": "https://localhost:8080/",
          "height": 34
        }
      },
      "source": [
        "#Country 3: Australia\n",
        "InputValues(150, 248)"
      ],
      "execution_count": 0,
      "outputs": [
        {
          "output_type": "execute_result",
          "data": {
            "text/plain": [
              "[0.75, 'April04', 492, 939, 'supression factor:', -0.44]"
            ]
          },
          "metadata": {
            "tags": []
          },
          "execution_count": 83
        }
      ]
    },
    {
      "cell_type": "code",
      "metadata": {
        "id": "fxkVkHpd3XIl",
        "colab_type": "code",
        "outputId": "2074e4c6-7f4b-4fc2-d961-ab1edea2d0a1",
        "colab": {
          "base_uri": "https://localhost:8080/",
          "height": 994
        }
      },
      "source": [
        "# Dados\n",
        "\n",
        "x_values1=[17,18,19,20,21,22,23,24,25,26,27,28,29,30,31,32,33,34,35]\n",
        "x_values2=[17,18,19,20,21,22,23,24,25,26,27,28,29,30,31,32,33,34]\n",
        "\n",
        "y_values1=[34,57,137,193,283,224,418,345,310,232,482,502,487,352,323,1138,1119, 1074, 990]\n",
        "y_values2=[34,57,137,193,283,224,418,345,310,232,482,502,487,352,323,1138,1119, 1074, 4100]\n",
        "\n",
        "y_values3=[34,57,137,193,283,224,418,345,310,232,482,502,487,352,323,1138,1119,1074]\n",
        "\n",
        "\n",
        "fig=plt.figure()\n",
        "ax=fig.add_subplot(111, label=\"1\")\n",
        "#ax2=fig.add_subplot(111, label=\"2\", frame_on=False)\n",
        "\n",
        "ax.plot(x_values1, y_values1, 'k--', color=\"C2\")\n",
        "ax.scatter(x_values1, y_values1, color=\"C3\")\n",
        "ax.plot(x_values1, y_values2, 'k--', color=\"C2\")\n",
        "ax.scatter(x_values1, y_values2, color=\"C3\")\n",
        "\n",
        "ax.plot(x_values2, y_values3, color=\"C2\")\n",
        "ax.scatter(x_values2, y_values3, color=\"C1\")\n",
        "\n",
        "#ax.oplot(x_values1, y_values2, color=\"C0\")\n",
        "#ax.oscatter(x_values1, y_values2, color=\"C0\")\n",
        "\n",
        "\n",
        "ax.set_xlabel(\"daily date (starting March 17, 2020)\", color=\"C0\")\n",
        "ax.set_ylabel(\"daily confirmed cases in Brazil (WHO)\", color=\"C0\")\n",
        "\n",
        "plt.title(\"ICM-SF COVID-19 Model Prediction for April 04, 2020\\n Min: 990 (g=0.35) and Max: 4100 (g=0.75)\\n g = general transmission factor (input)\")\n",
        "\n",
        "plt.grid(True)\n",
        "\n",
        "plt.show()\n",
        "\n",
        "# Dados\n",
        "x_values1=[1, 2, 3, 4, 5, 6, 7, 8]\n",
        "y_values1=[0,0.55,0.65,0.35,0.35,0.75,0.35,0.35]\n",
        "\n",
        "x_values2=[1, 2, 3, 4, 5, 6, 7, 8]\n",
        "y_values2=[0,-0.26,-0.24,0.12,0.31,-0.28,0.07,0.30]\n",
        "\n",
        "fig=plt.figure()\n",
        "ax=fig.add_subplot(111, label=\"1\")\n",
        "ax2=fig.add_subplot(111, label=\"2\", frame_on=False)\n",
        "\n",
        "ax.plot(x_values1, y_values1, color=\"C0\")\n",
        "ax.scatter(x_values1, y_values1, color=\"C0\")\n",
        "ax.set_xlabel(\"time (each two days)\", color=\"C0\")\n",
        "ax.set_ylabel(\"general transmission factor (g)\", color=\"C0\")\n",
        "ax.tick_params(axis='x', colors=\"C0\")\n",
        "ax.tick_params(axis='y', colors=\"C0\")\n",
        "\n",
        "ax2.plot(x_values2, y_values2, color=\"C1\")\n",
        "ax2.scatter(x_values2, y_values2, color=\"C1\")\n",
        "ax2.xaxis.tick_top()\n",
        "ax2.yaxis.tick_right()\n",
        "ax2.set_ylabel('supression factor (s)', color=\"C1\")       \n",
        "ax2.xaxis.set_label_position('top') \n",
        "ax2.yaxis.set_label_position('right') \n",
        "ax2.tick_params(axis='x', colors=\"C1\")\n",
        "ax2.tick_params(axis='y', colors=\"C1\")\n",
        "\n",
        "plt.title(\"ICM-SF COVID-19 Model Prediction for April 04, 2020:\\n Time Series for General Transmission Factor (g) and Supression Factor (s)\")\n",
        "\n",
        "plt.grid(False)\n",
        "\n",
        "#Input_Output Table\n",
        "\n",
        "print (\"INPUT AND OUTPUT FOR APRIL 04, 2020\")\n",
        "\n",
        "df = pd.DataFrame({'Country' : [\"Brazil\", \"Brazil\", \"Brazil\", \"Canada\", \"Canada\", \"Canada\", \"Australia\", \"Australia\", \"Australia\"],\n",
        "                   'Transmission Factor (g0)' : [0.75,0.75,0.75,0.35,0.35, 0.35,0.35,0.35, 0.35],\n",
        "                   'Transmission Factor (g)' : [0.35,0.55,0.75,0.35,0.55,0.75,0.35,0.55,0.75],\n",
        "                   'Number one day before (n_kb)': [1119, 1119, 1119, 1112, 1112, 1112, 150, 150, 150],\n",
        "                   'Number today (n_kt)': [1074, 1074, 1074, 1673, 1673, 1673, 248, 248, 248],\n",
        "                   'Number for tomorrow (N_min)': [990, 1899, 2979, 1549, 2949, 4649, 230, 439, 689],\n",
        "                   'Number for tomorrow (N_max)': [1900, 2980, 4100, 2950, 4650, 6350, 440, 690, 940],\n",
        "                   'Supression Factor (s)': [0.30, -0.40, -0.30, 0.16, 0.02, -0.30, 0.15, -0.40, -0.45]})\n",
        "df"
      ],
      "execution_count": 0,
      "outputs": [
        {
          "output_type": "display_data",
          "data": {
            "image/png": "[encoded data removed]",
            "text/plain": [
              "<Figure size 432x288 with 1 Axes>"
            ]
          },
          "metadata": {
            "tags": []
          }
        },
        {
          "output_type": "stream",
          "text": [
            "INPUT AND OUTPUT FOR APRIL 04, 2020\n"
          ],
          "name": "stdout"
        },
        {
          "output_type": "execute_result",
          "data": {
            "text/html": [
              "<div>\n",
              "<style scoped>\n",
              "    .dataframe tbody tr th:only-of-type {\n",
              "        vertical-align: middle;\n",
              "    }\n",
              "\n",
              "    .dataframe tbody tr th {\n",
              "        vertical-align: top;\n",
              "    }\n",
              "\n",
              "    .dataframe thead th {\n",
              "        text-align: right;\n",
              "    }\n",
              "</style>\n",
              "<table border=\"1\" class=\"dataframe\">\n",
              "  <thead>\n",
              "    <tr style=\"text-align: right;\">\n",
              "      <th></th>\n",
              "      <th>Country</th>\n",
              "      <th>Transmission Factor (g0)</th>\n",
              "      <th>Transmission Factor (g)</th>\n",
              "      <th>Number one day before (n_kb)</th>\n",
              "      <th>Number today (n_kt)</th>\n",
              "      <th>Number for tomorrow (N_min)</th>\n",
              "      <th>Number for tomorrow (N_max)</th>\n",
              "      <th>Supression Factor (s)</th>\n",
              "    </tr>\n",
              "  </thead>\n",
              "  <tbody>\n",
              "    <tr>\n",
              "      <th>0</th>\n",
              "      <td>Brazil</td>\n",
              "      <td>0.75</td>\n",
              "      <td>0.35</td>\n",
              "      <td>1119</td>\n",
              "      <td>1074</td>\n",
              "      <td>990</td>\n",
              "      <td>1900</td>\n",
              "      <td>0.30</td>\n",
              "    </tr>\n",
              "    <tr>\n",
              "      <th>1</th>\n",
              "      <td>Brazil</td>\n",
              "      <td>0.75</td>\n",
              "      <td>0.55</td>\n",
              "      <td>1119</td>\n",
              "      <td>1074</td>\n",
              "      <td>1899</td>\n",
              "      <td>2980</td>\n",
              "      <td>-0.40</td>\n",
              "    </tr>\n",
              "    <tr>\n",
              "      <th>2</th>\n",
              "      <td>Brazil</td>\n",
              "      <td>0.75</td>\n",
              "      <td>0.75</td>\n",
              "      <td>1119</td>\n",
              "      <td>1074</td>\n",
              "      <td>2979</td>\n",
              "      <td>4100</td>\n",
              "      <td>-0.30</td>\n",
              "    </tr>\n",
              "    <tr>\n",
              "      <th>3</th>\n",
              "      <td>Canada</td>\n",
              "      <td>0.35</td>\n",
              "      <td>0.35</td>\n",
              "      <td>1112</td>\n",
              "      <td>1673</td>\n",
              "      <td>1549</td>\n",
              "      <td>2950</td>\n",
              "      <td>0.16</td>\n",
              "    </tr>\n",
              "    <tr>\n",
              "      <th>4</th>\n",
              "      <td>Canada</td>\n",
              "      <td>0.35</td>\n",
              "      <td>0.55</td>\n",
              "      <td>1112</td>\n",
              "      <td>1673</td>\n",
              "      <td>2949</td>\n",
              "      <td>4650</td>\n",
              "      <td>0.02</td>\n",
              "    </tr>\n",
              "    <tr>\n",
              "      <th>5</th>\n",
              "      <td>Canada</td>\n",
              "      <td>0.35</td>\n",
              "      <td>0.75</td>\n",
              "      <td>1112</td>\n",
              "      <td>1673</td>\n",
              "      <td>4649</td>\n",
              "      <td>6350</td>\n",
              "      <td>-0.30</td>\n",
              "    </tr>\n",
              "    <tr>\n",
              "      <th>6</th>\n",
              "      <td>Australia</td>\n",
              "      <td>0.35</td>\n",
              "      <td>0.35</td>\n",
              "      <td>150</td>\n",
              "      <td>248</td>\n",
              "      <td>230</td>\n",
              "      <td>440</td>\n",
              "      <td>0.15</td>\n",
              "    </tr>\n",
              "    <tr>\n",
              "      <th>7</th>\n",
              "      <td>Australia</td>\n",
              "      <td>0.35</td>\n",
              "      <td>0.55</td>\n",
              "      <td>150</td>\n",
              "      <td>248</td>\n",
              "      <td>439</td>\n",
              "      <td>690</td>\n",
              "      <td>-0.40</td>\n",
              "    </tr>\n",
              "    <tr>\n",
              "      <th>8</th>\n",
              "      <td>Australia</td>\n",
              "      <td>0.35</td>\n",
              "      <td>0.75</td>\n",
              "      <td>150</td>\n",
              "      <td>248</td>\n",
              "      <td>689</td>\n",
              "      <td>940</td>\n",
              "      <td>-0.45</td>\n",
              "    </tr>\n",
              "  </tbody>\n",
              "</table>\n",
              "</div>"
            ],
            "text/plain": [
              "     Country  ...  Supression Factor (s)\n",
              "0     Brazil  ...                   0.30\n",
              "1     Brazil  ...                  -0.40\n",
              "2     Brazil  ...                  -0.30\n",
              "3     Canada  ...                   0.16\n",
              "4     Canada  ...                   0.02\n",
              "5     Canada  ...                  -0.30\n",
              "6  Australia  ...                   0.15\n",
              "7  Australia  ...                  -0.40\n",
              "8  Australia  ...                  -0.45\n",
              "\n",
              "[9 rows x 8 columns]"
            ]
          },
          "metadata": {
            "tags": []
          },
          "execution_count": 95
        },
        {
          "output_type": "display_data",
          "data": {
            "image/png": "[encoded data removed]",
            "text/plain": [
              "<Figure size 432x288 with 2 Axes>"
            ]
          },
          "metadata": {
            "tags": []
          }
        }
      ]
    },
    {
      "cell_type": "markdown",
      "metadata": {
        "id": "RluKYxzto8Qb",
        "colab_type": "text"
      },
      "source": [
        "# *Run Below the Output Report for Today*\n",
        "\n",
        "---\n",
        "\n"
      ]
    },
    {
      "cell_type": "code",
      "metadata": {
        "id": "-ABUesUkDG-X",
        "colab_type": "code",
        "outputId": "f0743acc-5eb1-4d30-83a2-5cdc3bfb60e8",
        "colab": {
          "base_uri": "https://localhost:8080/",
          "height": 289
        }
      },
      "source": [
        "#pip install termcolor\n",
        "from termcolor import colored\n",
        "\n",
        "print(colored('=========================================================================================================================================','blue'))\n",
        "print(colored('Output Report (in Portuguese):', 'red'))\n",
        "print(colored('==============================','blue'))\n",
        "print(\"Melhor faixa de valores previsto pelo modelo [considerando o valor divulgado pela OMS em 03/4/2020 (N_oms = 1074)]: Faixa para g=0.35 ==> 1050-1660.\")\n",
        "#print(\"Houve portanto redução do valor do fator geral de transmissão (g) de 0.75 para 0.35;\")\n",
        "print(\"O fator geral de transmissão (g) manteve-se igual a 0.35;\")\n",
        "print(\"Resultando assim um fator de supressão ainda mais positivo de 0.29.\")\n",
        "print(colored('---------------------------------------------------------------------------------','yellow'))\n",
        "print(colored(\" De acordo com o modelo, medidas de isolamento horizontal devem ser mantidas\\n e instruções mais eficazes de prevenção devem ser elaboradas e amplamente divulgadas\\n para aqueles que estão ou estarão, por motivo de força maior,\\n mais vulneráveis à transmitir ou ser infectado.\", 'red'))\n",
        "print(colored('---------------------------------------------------------------------------------','yellow'))\n",
        "print(colored(\"Input Values para 04/4/20: g0= to be estimated, nkb=1074, nkt= to be estimated.\", 'blue'))\n",
        "print(colored('---------------------------------------------------------------------------------','yellow'))\n",
        "print(colored('                                                                                            by r.r.rosa, April 3, 2020.', 'blue'))\n",
        "print(colored('=========================================================================================================================================','blue'))"
      ],
      "execution_count": 0,
      "outputs": [
        {
          "output_type": "stream",
          "text": [
            "\u001b[34m=========================================================================================================================================\u001b[0m\n",
            "\u001b[31mOutput Report (in Portuguese):\u001b[0m\n",
            "\u001b[34m==============================\u001b[0m\n",
            "Melhor faixa de valores previsto pelo modelo [considerando o valor divulgado pela OMS em 03/4/2020 (N_oms = 1074)]: Faixa para g=0.35 ==> 1050-1660.\n",
            "O fator geral de transmissão (g) manteve-se igual a 0.35;\n",
            "Resultando assim um fator de supressão ainda mais positivo de 0.29.\n",
            "\u001b[33m---------------------------------------------------------------------------------\u001b[0m\n",
            "\u001b[31m De acordo com o modelo, medidas de isolamento horizontal devem ser mantidas\n",
            " e instruções mais eficazes de prevenção devem ser elaboradas e amplamente divulgadas\n",
            " para aqueles que estão ou estarão, por motivo de força maior,\n",
            " mais vulneráveis à transmitir ou ser infectado.\u001b[0m\n",
            "\u001b[33m---------------------------------------------------------------------------------\u001b[0m\n",
            "\u001b[34mInput Values para 04/4/20: g0= to be estimated, nkb=1074, nkt= to be estimated.\u001b[0m\n",
            "\u001b[33m---------------------------------------------------------------------------------\u001b[0m\n",
            "\u001b[34m                                                                                            by r.r.rosa, April 3, 2020.\u001b[0m\n",
            "\u001b[34m=========================================================================================================================================\u001b[0m\n"
          ],
          "name": "stdout"
        }
      ]
    },
    {
      "cell_type": "markdown",
      "metadata": {
        "id": "jTc2LfJLn59w",
        "colab_type": "text"
      },
      "source": [
        "# FIM DO PROGRAMA (END OF THE PROGRAM VERSION 1.2)\n",
        "(SEGUEM ABAIXO NOVOS MÓDULOS AINDA EM TESTE)"
      ]
    },
    {
      "cell_type": "markdown",
      "metadata": {
        "id": "DljR1vf4r-0a",
        "colab_type": "text"
      },
      "source": [
        "# Complemento: Casos de teste de decaimento exponencial"
      ]
    },
    {
      "cell_type": "code",
      "metadata": {
        "id": "zW_eBYl3r-0b",
        "colab_type": "code",
        "colab": {}
      },
      "source": [
        "class exponentialDecrease:\n",
        "\n",
        "    def __init__(self,t=0,const=0.7,alpha=2):\n",
        "        self.t = t\n",
        "        self.const = const\n",
        "        self.alpha = alpha\n",
        "        \n",
        "    def getF(self):\n",
        "        return self.const*np.exp(-self.alpha*self.t)"
      ],
      "execution_count": 0,
      "outputs": []
    },
    {
      "cell_type": "code",
      "metadata": {
        "id": "p143EE-zr-0s",
        "colab_type": "code",
        "outputId": "cb7e2fb4-3e9e-41fc-d20c-f78686930b26",
        "colab": {
          "base_uri": "https://localhost:8080/",
          "height": 34
        }
      },
      "source": [
        "#deve retornar o mesmo valor do caso constante...\n",
        "InputValues(502, 487, f=exponentialDecrease())"
      ],
      "execution_count": 0,
      "outputs": [
        {
          "output_type": "execute_result",
          "data": {
            "text/plain": [
              "[0.7, 'March30', 903, 1721, 'supression factor:', -0.3]"
            ]
          },
          "metadata": {
            "tags": []
          },
          "execution_count": 48
        }
      ]
    },
    {
      "cell_type": "code",
      "metadata": {
        "id": "sdkvBV36r-01",
        "colab_type": "code",
        "colab": {}
      },
      "source": [
        "# t =0.1 -> f =0.7*exp(-2*0.1) = 0.57\n",
        "\n",
        "# Nmin = 0.57x(2x56+4x20+5x4)= 0.57x(212) ~ 121\n",
        "# Nmax = 0.57x(4x56+7x20+10x4)= 0.57x(404) ~ 230\n",
        "InputValues(502,482, f=exponentialDecrease(t=0.1))"
      ],
      "execution_count": 0,
      "outputs": []
    },
    {
      "cell_type": "code",
      "metadata": {
        "id": "NUnCEbWzssSp",
        "colab_type": "code",
        "colab": {}
      },
      "source": [
        "#dt = pd.read_csv(\"/home/pnj/Neel/Data_Results/covid19/codiv19icm10days.csv\",header=None)  - made by Sautter\n",
        "\n",
        "data = pd.read_csv(\"codiv19icm10days.csv\",header=None)\n",
        "sz = dt.shape\n",
        "dt_num_rows = sz[0]\n",
        "dt_num_cols = sz[1]\n",
        "\n",
        "days = dt[0]\n",
        "labels = ['min_model1','max_model1','min_model2','max_model2','min_model3','max_model3']\n",
        "\n",
        "plt.figure()\n",
        "\n",
        "for i in range(1,dt_num_cols):\n",
        "    plt.plot(days,dt[i],'-p',markersize=15,linewidth=4,markerfacecolor='white',markeredgewidth=2)\n",
        "    \n",
        "plt.title(\"COVID 19 in 10 days\")\n",
        "plt.xlabel(\"days in March\")\n",
        "plt.ylabel(\"covid cases\")   \n",
        "plt.legend(labels)\n",
        "plt.show()    \n",
        "#fig.savefig('model.png')  \n",
        "\n",
        "# scatter plot\n",
        "# size of bubble is scaled one to one with data\n",
        "colors = np.random.rand(10) \n",
        "for i in range(1,dt_num_cols):\n",
        "    plt.scatter(days,dt[i],s=1*dt[i],c=colors,alpha=0.3,cmap='viridis')\n",
        "plt.colorbar();  # show color scale"
      ],
      "execution_count": 0,
      "outputs": []
    },
    {
      "cell_type": "code",
      "metadata": {
        "id": "2w8eV14GAWAf",
        "colab_type": "code",
        "colab": {}
      },
      "source": [
        "from google.colab import files\n",
        "uploaded = files.upload()\n",
        "\n",
        "for fn in uploaded.keys():\n",
        "  print('User uploaded file \"{name}\" with length {length} bytes'.format(\n",
        "      name=fn, length=len(uploaded[fn])))"
      ],
      "execution_count": 0,
      "outputs": []
    },
    {
      "cell_type": "code",
      "metadata": {
        "id": "XLUVBQBiftN1",
        "colab_type": "code",
        "colab": {}
      },
      "source": [
        "from google.colab import files\n",
        "\n",
        "uploaded = files.upload()\n",
        "\n",
        "for fn in uploaded.keys():\n",
        "  print('User uploaded file \"{name}\" with length {length} bytes'.format(\n",
        "      name=fn, length=len(uploaded[fn])))"
      ],
      "execution_count": 0,
      "outputs": []
    },
    {
      "cell_type": "code",
      "metadata": {
        "id": "degn94qtIGfl",
        "colab_type": "code",
        "colab": {}
      },
      "source": [
        "\n",
        "\n",
        "#plt.rcParams['figure.figsize']=(11,7)\n",
        "#plt.title('Daily cases Covid 19 - IMC Model Prediction')\n",
        "#plt.xlabel('Time (Days)')\n",
        "#plt.ylabel('Daily New Confirmed Cases')\n"
      ],
      "execution_count": 0,
      "outputs": []
    },
    {
      "cell_type": "code",
      "metadata": {
        "id": "PQ3lQY5ItVb4",
        "colab_type": "code",
        "colab": {}
      },
      "source": [
        "import pandas as pd\n",
        "import matplotlib.pyplot as plt\n",
        "\n",
        "data = pd.read_csv(\"codiv19icm10days.csv\",header=None)\n",
        "x = data[0].values\n",
        "\n",
        "plt.figure(figsize=(10,5))\n",
        "plt.fill_between(x,[450 for i in x],[849 for i in x],alpha=0.3,color='gray',label=r\"$G = 0.35$\")\n",
        "plt.fill_between(x,[849 for i in x],[1350 for i in x],alpha=0.5,color='gray',label=r\"$G = 0.55$\")\n",
        "plt.fill_between(x,[1350 for i in x],[1850 for i in x],alpha=0.8,color='gray',label=r\"$G = 0.75$\")\n",
        "for i in range(1,data.shape[1]):\n",
        "    if i == 1:\n",
        "        plt.plot(x,data[i].values,ls='-.',label=\"Min\")\n",
        "    elif i == 6:\n",
        "        plt.plot(x,data[i].values,ls='-.',label=\"Max\")\n",
        "    else:\n",
        "        plt.plot(x,data[i].values,ls='-.')\n",
        "plt.xlim(min(x),max(x))\n",
        "plt.title('Daily cases Covid 19 in Brazil - IMC Model Prediction')\n",
        "plt.xlabel(\"Time (Days)\")\n",
        "plt.ylabel('Daily New Confirmed Cases')\n",
        "plt.legend()\n",
        "plt.show()"
      ],
      "execution_count": 0,
      "outputs": []
    },
    {
      "cell_type": "code",
      "metadata": {
        "id": "ArcCs7Awu28N",
        "colab_type": "code",
        "colab": {}
      },
      "source": [
        "def mapa(g0,g):\n",
        "  isup1=(1-g)**2\n",
        "  isup2=(1-g0)**2  \n",
        "  if g0 < g: \n",
        "    supfg = (g0 - g) - isup1\n",
        "  #elif (g0) > 0.5:\n",
        "  #  supfg = (g0-g) - isup**2\n",
        "  else:\n",
        "    supfg = (g0 - g) + isup2\n",
        "  return g, supfg"
      ],
      "execution_count": 0,
      "outputs": []
    },
    {
      "cell_type": "code",
      "metadata": {
        "id": "8uxizYQ4veSU",
        "colab_type": "code",
        "colab": {}
      },
      "source": [
        "gs = []\n",
        "g,g0 = 0.75,0.35\n",
        "for i in range(100):\n",
        "  print(g0,g)\n",
        "  g0, g =  mapa(g0, g)\n",
        "  gs.append(g)"
      ],
      "execution_count": 0,
      "outputs": []
    }
  ]
}